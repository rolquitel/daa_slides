{
 "cells": [
  {
   "cell_type": "markdown",
   "metadata": {
    "slideshow": {
     "slide_type": "slide"
    }
   },
   "source": [
    "# Unidad 2. Bases para el análisis de algoritmos\n"
   ]
  },
  {
   "cell_type": "markdown",
   "metadata": {
    "slideshow": {
     "slide_type": "slide"
    }
   },
   "source": [
    "## 2.1. Tratabilidad computacional"
   ]
  },
  {
   "cell_type": "markdown",
   "metadata": {
    "slideshow": {
     "slide_type": "subslide"
    }
   },
   "source": [
    "### Eficiencia y eficacia\n",
    "\n",
    "* Eficiencia \n",
    "    * la relación entre los recursos utilizados en un proyecto y los logros conseguidos con el mismo\n",
    "    * da cuando se utilizan menos recursos para lograr un mismo objetivo\n",
    "    * o cuando se logran más objetivos con los mismos o menos recursos.\n",
    "\n",
    "\n",
    "* Eficacia\n",
    "    * el nivel de consecución de metas y objetivos\n",
    "    * hace referencia a nuestra capacidad para lograr lo que nos proponemos.\n"
   ]
  },
  {
   "cell_type": "markdown",
   "metadata": {
    "slideshow": {
     "slide_type": "subslide"
    }
   },
   "source": [
    "### Tiempo de ejecución\n",
    "\n",
    "* Es la estimación de cuánto tiempo será necesario para que un algoritmo encuentre la solución a un problema\n",
    "    * Este tiempo está dado en términos del tamaño de la entrada\n",
    "\n",
    "* Se considera que todos los algoritmos son de búsqueda\n",
    "    * Búsqueda de la solución\n",
    "    * Búsqueda de una propiedad\n"
   ]
  },
  {
   "cell_type": "markdown",
   "metadata": {
    "slideshow": {
     "slide_type": "subslide"
    }
   },
   "source": [
    "### Análisis del peor caso\n",
    "\n",
    "* Se utiliza para obtener una cota superior del tiempo de ejecución más largo posible para un algoritmo que tiene una entrada de tamaño $N$\n",
    "\n",
    "\n",
    "    - Esto captura, en la práctica, la eficiencia\n"
   ]
  },
  {
   "cell_type": "markdown",
   "metadata": {
    "slideshow": {
     "slide_type": "subslide"
    }
   },
   "source": [
    "### Análisis del caso intermedio\n",
    "\n",
    "* Se busca tener una cota del tiempo de ejecución de un algoritmo con una entrada aleatoria de tamaño N\n",
    "\n",
    "* Es muy difícil (si no imposible) modelar con exactitud instancias reales  con distribuciones aleatorias\n",
    "\n",
    "* Además, un algoritmo puede tener buenos resultados con ciertas distribuciones y muy malos resultados con otras\n"
   ]
  },
  {
   "cell_type": "markdown",
   "metadata": {
    "slideshow": {
     "slide_type": "subslide"
    }
   },
   "source": [
    "### Fuerza bruta\n",
    "\n",
    "* Para muchos de los problemas existe un algoritmo natural de búsqueda por fuerza bruta que examina cada posible solución\n",
    "    * Tipicamente toma un tiempo de $2^N$ o más para entradas de tamaño $N$ \n",
    "    * Por ejemplo, para el caso del emparejamiento estable toma $N!$ para conjuntos de $N$ hombres y $N$ mujeres\n",
    "    * No es aceptable en la práctica\n"
   ]
  },
  {
   "cell_type": "markdown",
   "metadata": {
    "slideshow": {
     "slide_type": "subslide"
    }
   },
   "source": [
    "### Tiempo polinomial\n",
    "\n",
    "* Un algoritmo funciona en tiempo polinomial si se puede caracterizar su tiempo de ejecición como una función polinomial de la entrada $N$\n",
    "    * Por ejemplo, en el algoritmo PR dicha función es $N^2$\n",
    "\n",
    "* Un **polinomio** es una expresión matemática constituida por un conjunto finito de variables y constantes (números fijos llamados *coeficientes*), utilizando únicamente las operaciones aritméticas de suma, resta y multiplicación, así como también exponentes enteros positivos\n"
   ]
  },
  {
   "cell_type": "markdown",
   "metadata": {
    "slideshow": {
     "slide_type": "subslide"
    }
   },
   "source": [
    "### Tiempo polinomial\n",
    "\n",
    "* Se dice que por definición que un algoritmo es eficiente si corre en tiempo polinomial\n",
    "    * Aunque, por ejemplo, $6.02×10^{23}×N^{20}$ es tecnicamente un tiempo polinomial, sería impráctico\n",
    "    * En la práctica, los algoritmos que corren en tiempo polinomial casi siempre tienen bajos coeficientes y exponentes\n",
    "    * El deshacerse de la barrera exponencial de la fuerza bruta normalmente expone alguna estructura crucial del problema\n",
    "* Excepciones\n",
    "    * Algoritmos de tiempo polinomial que tienen exponentes y/o coeficientes muy grandes son inútiles en la práctica\n",
    "    * Algoritmos de tiempo exponencial, o peor, se utilizan cuando en la práctica las instancias del peor caso son raras\n"
   ]
  },
  {
   "cell_type": "markdown",
   "metadata": {
    "slideshow": {
     "slide_type": "subslide"
    }
   },
   "source": [
    "### ¿Por qué es importante?"
   ]
  },
  {
   "cell_type": "code",
   "execution_count": 25,
   "metadata": {
    "slideshow": {
     "slide_type": "skip"
    }
   },
   "outputs": [],
   "source": [
    "from math import log, factorial\n",
    "\n",
    "def fact(n):\n",
    "    try:\n",
    "        return factorial(n) \n",
    "    except:\n",
    "        return float('inf')"
   ]
  },
  {
   "cell_type": "code",
   "execution_count": 41,
   "metadata": {
    "slideshow": {
     "slide_type": "fragment"
    }
   },
   "outputs": [
    {
     "name": "stdout",
     "output_type": "stream",
     "text": [
      "n\tO(n)\tnlog(n)\tn^2\tn^3\t1.5^n\t2^n\tn!\n",
      "10\t 3e-13\t 7e-13\t 3e-12\t 3e-11\t 2e-12\t 3e-11\t 1e-07\t\n",
      "20\t 6e-13\t 2e-12\t 1e-11\t 3e-10\t 1e-10\t 3e-08\t 8e+04\t\n",
      "50\t 2e-12\t 6e-12\t 8e-11\t 4e-09\t 2e-05\t 4e+01\t 1e+51\t\n",
      "100\t 3e-12\t 1e-11\t 3e-10\t 3e-08\t 1e+04\t 4e+16\t3e+144\t\n",
      "1000\t 3e-11\t 2e-10\t 3e-08\t 3e-05\t4e+162\t3e+287\t   inf\t\n",
      "10000\t 3e-10\t 3e-09\t 3e-06\t  0.03\t   inf\t   inf\t   inf\t\n",
      "100000\t 3e-09\t 4e-08\t0.0003\t 3e+01\t   inf\t   inf\t   inf\t\n",
      "1000000\t 3e-08\t 4e-07\t  0.03\t 3e+04\t   inf\t   inf\t   inf\t\n"
     ]
    }
   ],
   "source": [
    "div = 1000000 * 60 * 60 * 24 * 365  # 1 año en microsegundos\n",
    "\n",
    "print(\"n\\tO(n)\\tnlog(n)\\tn^2\\tn^3\\t1.5^n\\t2^n\\tn!\")\n",
    "for n in [10, 20, 50, 100, 1000, 10000, 100000, 1000000]:\n",
    "    print(n, end=\"\\t\")\n",
    "    for f in [lambda x: x/div, lambda x: x*log(x)/div, \n",
    "              lambda x: x**2/div, lambda x: x**3/div, \n",
    "              lambda x: 1.5**x/div, lambda x: 2**x/div, \n",
    "              lambda x: fact(x)/div]:\n",
    "        try:\n",
    "            print('%6.0g' % f(n), end=\"\\t\")\n",
    "        except:\n",
    "            print('%6s'%'inf', end=\"\\t\")\n",
    "    print()"
   ]
  },
  {
   "cell_type": "markdown",
   "metadata": {
    "slideshow": {
     "slide_type": "slide"
    }
   },
   "source": [
    "## 2.2 Orden de crecimiento asintótico\n"
   ]
  },
  {
   "cell_type": "markdown",
   "metadata": {
    "slideshow": {
     "slide_type": "subslide"
    }
   },
   "source": [
    "Se busca caracterizar el comportamiento del tiempo de ejecución como una función $f(n)$, donde $n$ es el tamaño de la entrada \n",
    "\n",
    "Para facilitar esta búsqueda, se establece que es suficiente con caracterizar $f(n)$ con un órden de crecimiento asintótico, es decir una función $g(n)$ que describe un límite en el comportamiento de $f(n)$\n",
    "\n",
    "* Si $g(n)$ es un límite superior para el comportamiento de $f(n)$ se dice que $f(n)$ pertenece a $O (g(n))$ – ($f(n)$ es $O(g(n))$ )\n",
    "\n",
    "* Si $g(n)$ es un límite inferior para el comportamiento de $f(n)$ se dice que $f(n)$ pertenece a $\\Omega(g(n))$ – ($f(n)$ es $\\Omega(g(n))$) )\n",
    "\n",
    "* Si $g(n)$ es un límite estrecho para el comportamiemto de $f(n)$ se dice que $f(n)$ pertenece a $\\Theta(g(n))$ – ($f(n)$ es $\\Theta(g(n))$ )\n"
   ]
  },
  {
   "cell_type": "markdown",
   "metadata": {
    "slideshow": {
     "slide_type": "subslide"
    }
   },
   "source": [
    "### Límite superior ($O$)\n",
    "\n",
    "$f(n)$ pertence a $O(g(n))$ si existen las constantes positivas $n_0$ y $c$ tal que para toda $n \\geq n_0$ tenemos que $cg(n) \\geq f(n)$\n",
    "\n",
    "<center>\n",
    "<img src='fig/omicron.png' height=400>\n"
   ]
  },
  {
   "cell_type": "markdown",
   "metadata": {
    "slideshow": {
     "slide_type": "subslide"
    }
   },
   "source": [
    "### Límite inferior ($\\Omega$)\n",
    "\n",
    "$f(n)$ pertence a $\\Omega(g(n))$ si existen las constantes positivas $n_0$ y $c$ tal que para toda $n \\geq n_0$ tenemos que $cg(n) \\leq f(n)$\n",
    "\n",
    "<center>\n",
    "<img src='fig/omega.png' height=400>"
   ]
  },
  {
   "cell_type": "markdown",
   "metadata": {
    "slideshow": {
     "slide_type": "subslide"
    }
   },
   "source": [
    "### Límite inferior ($\\Theta$)\n",
    "\n",
    "$f(n)$ pertence a $\\Theta(g(n))$ si existen las constantes positivas $n_0$, $c_1$ y $c_2$ tal que para toda $n \\geq n_0$ tenemos que $c_1g(n) \\leq f(n) \\leq c_2g(n)$\n",
    "\n",
    "<center>\n",
    "<img src='fig/omega.png' height=400>"
   ]
  },
  {
   "cell_type": "markdown",
   "metadata": {
    "slideshow": {
     "slide_type": "subslide"
    }
   },
   "source": [
    "### Algunas propiedades\n",
    "\n",
    "* $f(n)$ pertence a $\\Theta(g(n))$ si y solo si es $O(g(n))$ y es $\\Omega(g(n))$\n",
    "\n",
    "* Por ejemplo:\n",
    "\n",
    "    * Si $g(n)=32n2+17n+50$\n",
    "    * Entonces $g(n)$ es \n",
    "        * $O(n^2)$, $O(n^3)$\n",
    "        * $\\Omega(n^2)$, $\\Omega(n)$ \n",
    "        * $\\Theta(n^2)$\n",
    "    * Además $g(n)$ no es\n",
    "        * $O(n)$\n",
    "        * $\\Omega(n^3)$\n",
    "        * $\\Theta(n)$, $\\Theta(n^3)$\n"
   ]
  },
  {
   "cell_type": "markdown",
   "metadata": {
    "slideshow": {
     "slide_type": "subslide"
    }
   },
   "source": [
    "### Más propiedades\n",
    "\n",
    "* Transitividad\n",
    "    * Si $f(n)$ es $O(g(n))$ y $g(n)$ es $O(h(n))$ entonces $f(n)$ es $ O(h(n)) $\n",
    "    * Si $f(n)$ es $\\Omega(g(n))$ y $g(n)$ es $\\Omega(h(n))$ entonces $f(n)$ es $ \\Omega(h(n)) $\n",
    "    * Si $f(n)$ es $\\Theta(g(n))$ y $g(n)$ es $\\Theta(h(n))$ entonces $f(n)$ es $ \\Theta(h(n)) $\n",
    "\n",
    "* Demostración\n",
    "    * $f(n)$ es $O(g(n)) \\Rightarrow$  existen $n_f$ y $c_f$ tal que para toda $n \\geq n_f$, $c_fg(n) \\geq f(n)$\n",
    "    * $g(n)$ es $O(h(n)) \\Rightarrow$  existen $n_g$ y $c_g$ tal que para toda $n \\geq n_g$, $c_gh(n) \\geq g(n)$\n",
    "    * Entonces, $c_fc_gh(n) \\geq f(n)$ para toda $n \\geq max\\{n_f,n_g\\}$\n",
    "    * Por lo tanto, $f(n)$ es $O(h(n))$\n",
    "    "
   ]
  },
  {
   "cell_type": "markdown",
   "metadata": {
    "slideshow": {
     "slide_type": "subslide"
    }
   },
   "source": [
    "* Reflexividad\n",
    "    * $f(n)$ es $O(f(n))$\n",
    "    * Lo mismo para $\\Omega$ y $\\Theta$\n",
    "\n",
    "* Simetría\n",
    "    * $f(n)$ es  $\\Theta(g(n))$ si y sólo si $g(n)$ es $\\Theta(f(n))$\n",
    "\n",
    "* Simetría transpuesta\n",
    "    * $f(n)$ es $O(g(n))$ si y sólo si $g(n)$ es $\\Omega(f(n))$\n",
    "\n",
    "* Aditividad\n",
    "    * Si $f(n)$ es $\\Theta(h(n))$ y $g(n)$ es $\\Theta(h(n))$, entonces $f(n)+g(n)$ es $\\Theta(h(n))$\n",
    "    * Lo mismo para las demás\n"
   ]
  },
  {
   "cell_type": "markdown",
   "metadata": {
    "slideshow": {
     "slide_type": "slide"
    }
   },
   "source": [
    "## 2.3 Compilación de tiempos de ejecución comunes"
   ]
  },
  {
   "cell_type": "markdown",
   "metadata": {
    "slideshow": {
     "slide_type": "subslide"
    }
   },
   "source": [
    "### Tiempo constante – $O(1)$\n",
    "\n",
    "* El tiempo de ejecución no depende del tamaño de la entrada\n",
    "\n",
    "* Ejemplos\n",
    "    * Dado un arreglo ordenado de N elementos devolver el elemento más grande\n",
    "    * Dado un arreglo de N elementos devolver los primeros K elementos\n"
   ]
  },
  {
   "cell_type": "markdown",
   "metadata": {
    "slideshow": {
     "slide_type": "subslide"
    }
   },
   "source": [
    "### Tiempo sublineal – $O(\\log n)$\n",
    "\n",
    "* El tiempo de ejecución es muy eficiente ya que crece muy poco con respecto al tamaño de la entrada\n",
    "\n",
    "* Ejemplo: búsqueda binaria\n",
    "    * Dado un arreglo ordenado de elementos, realizar la búsqueda de un elemento en particular\n"
   ]
  },
  {
   "cell_type": "code",
   "execution_count": 19,
   "metadata": {
    "slideshow": {
     "slide_type": "subslide"
    }
   },
   "outputs": [
    {
     "name": "stdout",
     "output_type": "stream",
     "text": [
      "El elemento está en la posición 6\n"
     ]
    }
   ],
   "source": [
    "def busquedaBinaria(arr, x):\n",
    "    l = 0\n",
    "    r = len(arr) - 1\n",
    "    while l <= r:\n",
    "        mid = l + (r - l) // 2\n",
    "        if arr[mid] == x:\n",
    "            return mid\n",
    "        elif arr[mid] < x:\n",
    "            l = mid + 1\n",
    "        else:\n",
    "            r = mid - 1\n",
    "    return -1\n",
    "\n",
    "arreglo = [1, 2, 3, 4, 5, 6, 7, 8, 9, 10]\n",
    "x = 7\n",
    "resultado = busquedaBinaria(arreglo, x)\n",
    "if resultado != -1:\n",
    "    print(\"El elemento está en la posición\", str(resultado))\n",
    "else:\n",
    "    print(\"El elemento no está en el arreglo\")"
   ]
  },
  {
   "cell_type": "markdown",
   "metadata": {
    "slideshow": {
     "slide_type": "subslide"
    }
   },
   "source": [
    "### Tiempo lineal – $O(n)$\n",
    "\n",
    "* El tiempo de ejecución es a lo más un factor de tiempo constante por el tamaño de la entrada\n",
    "\n",
    "* Ejemplo 1: calcular el máximo de un conjunto de números $A={a_1, a_2, \\dots , a_n}$\n"
   ]
  },
  {
   "cell_type": "code",
   "execution_count": 20,
   "metadata": {
    "slideshow": {
     "slide_type": "subslide"
    }
   },
   "outputs": [
    {
     "name": "stdout",
     "output_type": "stream",
     "text": [
      "El número máximo es 10\n"
     ]
    }
   ],
   "source": [
    "def maximo(arr):\n",
    "    max = arr[0]\n",
    "    for i in range(1, len(arr)):\n",
    "        if arr[i] > max:\n",
    "            max = arr[i]\n",
    "    return max\n",
    "\n",
    "arreglo = [1, 2, 3, 4, 5, 6, 7, 8, 9, 10]\n",
    "resultado = maximo(arreglo)\n",
    "print(\"El número máximo es\", resultado)"
   ]
  },
  {
   "cell_type": "markdown",
   "metadata": {
    "slideshow": {
     "slide_type": "subslide"
    }
   },
   "source": [
    "* Ejemplo 2: Combinar dos conjuntos de números ordenados $A={a_1, a_2, \\dots, a_n}$ y $B={b_1, b_2, \\dots, b_n}$ en un solo conjunto ordenado\n",
    "\n",
    "<center>\n",
    "<img src='fig/merge.png' width=600>\n",
    "\n"
   ]
  },
  {
   "cell_type": "code",
   "execution_count": 23,
   "metadata": {
    "slideshow": {
     "slide_type": "subslide"
    }
   },
   "outputs": [
    {
     "name": "stdout",
     "output_type": "stream",
     "text": [
      "El arreglo mezclado es [1, 2, 3, 4, 5, 6, 7, 8, 9, 10, 12, 14]\n"
     ]
    }
   ],
   "source": [
    "def merge(A, B):\n",
    "    arr3 = []\n",
    "    sizeA = len(A)\n",
    "    sizeB = len(B)\n",
    "    i, j = 0, 0\n",
    "    while i < sizeA and j < sizeB:\n",
    "        if A[i] < B[j]:\n",
    "            arr3.append(A[i])\n",
    "            i += 1\n",
    "        else:\n",
    "            arr3.append(B[j])\n",
    "            j += 1\n",
    "\n",
    "    while i < sizeA:\n",
    "        arr3.append(A[i])\n",
    "        i += 1\n",
    "\n",
    "    while j < sizeB:\n",
    "        arr3.append(B[j])\n",
    "        j += 1\n",
    "\n",
    "    return arr3\n",
    "\n",
    "A = [1, 3, 5, 7, 9]\n",
    "B = [2, 4, 6, 8, 10, 12, 14]\n",
    "C = merge(A, B)\n",
    "print(\"El arreglo mezclado es\", C)"
   ]
  },
  {
   "cell_type": "markdown",
   "metadata": {
    "slideshow": {
     "slide_type": "subslide"
    }
   },
   "source": [
    "* La combinación de los conjuntos de números de tamaño n toma un tiempo de $O(n)$\n",
    "\n",
    "* Demostración\n",
    "    * El conjunto $A$ se vacía\n",
    "        * Mejor caso: después de $n$ iteraciones\n",
    "            * todos los números en el conjunto $A$ son menores que el primer número en el conjunto $B$\n",
    "        * Peor caso: después de $2n$ iteraciones\n",
    "            * el primer número en el conjunto $A$ es mayor a todos los números del conjunto $B$\n",
    "    * El conjunto $B$ se vacía\n",
    "        * Mejor caso: después de $2n$ iteraciones\n",
    "            * todos los números en el conjunto $A$ son menores que el primer número en el conjunto $B$\n",
    "        * Peor caso: después de $n$ iteraciones\n",
    "            * el primer número en el conjunto $A$ es mayor a todos los números del conjunto $B$\n"
   ]
  },
  {
   "cell_type": "markdown",
   "metadata": {
    "slideshow": {
     "slide_type": "subslide"
    }
   },
   "source": [
    "### Tiempo logarítmico $O(n \\log n)$\n",
    "\n",
    "* Surge en los algoritmos de dividir y vencer\n",
    "    * Para ordenar un conjunto de n números se realizan n log n comparaciones\n",
    "        * Mergesort\n",
    "        * Heapsort\n",
    "\n",
    "* Encontrar el camino en un grafo más corto desde un nodo hacia todos los demás nodos\n"
   ]
  },
  {
   "cell_type": "markdown",
   "metadata": {
    "slideshow": {
     "slide_type": "subslide"
    }
   },
   "source": [
    "<center>\n",
    "<img src='fig/merge_sort.png' height=400>"
   ]
  },
  {
   "cell_type": "code",
   "execution_count": 26,
   "metadata": {
    "slideshow": {
     "slide_type": "subslide"
    }
   },
   "outputs": [
    {
     "name": "stdout",
     "output_type": "stream",
     "text": [
      "El arreglo ordenado es [1, 5, 6, 7, 11, 12, 13, 14, 15]\n"
     ]
    }
   ],
   "source": [
    "def merge_sort(A):\n",
    "    l = len(A)\n",
    "\n",
    "    if l == 1:\n",
    "        return A\n",
    "    \n",
    "    mid = l // 2\n",
    "    left = A[:mid]\n",
    "    right = A[mid:]\n",
    "\n",
    "    left = merge_sort(left)\n",
    "    right = merge_sort(right)\n",
    "\n",
    "    return merge(left, right)\n",
    "\n",
    "A = [12, 11, 13, 5, 6, 7, 1, 15, 14]\n",
    "resultado = merge_sort(A)\n",
    "print(\"El arreglo ordenado es\", resultado)"
   ]
  },
  {
   "cell_type": "markdown",
   "metadata": {
    "slideshow": {
     "slide_type": "subslide"
    }
   },
   "source": [
    "### Tiempo cuadrático $O(n^2)$\n",
    "\n",
    "* Enumeración de todos los pares de elementos\n",
    "    * Emparejamiento estable\n",
    "    * Simulación gravitatoria\n",
    "\n",
    "* Encontrar el par de puntos más cercanos\n",
    "    * Dada una lista de puntos, encontrar los dos que se encuentran más cerca\n"
   ]
  },
  {
   "cell_type": "code",
   "execution_count": 27,
   "metadata": {
    "slideshow": {
     "slide_type": "subslide"
    }
   },
   "outputs": [
    {
     "name": "stdout",
     "output_type": "stream",
     "text": [
      "La distancia mínima es 8\n"
     ]
    }
   ],
   "source": [
    "def min_dist(A):\n",
    "    min = (A[1][0] - A[0][0]) ** 2 + (A[1][1] - A[0][1]) ** 2\n",
    "    for i in range(len(A)):\n",
    "        for j in range(i + 1, len(A)):\n",
    "            dist = (A[j][0] - A[i][0]) ** 2 + (A[j][1] - A[i][1]) ** 2\n",
    "            if dist < min:\n",
    "                min = dist\n",
    "\n",
    "    return min\n",
    "\n",
    "A = [(1, 2), (3, 4), (5, 6), (7, 8), (9, 10)]\n",
    "resultado = min_dist(A)\n",
    "print(\"La distancia mínima es\", resultado)"
   ]
  },
  {
   "cell_type": "markdown",
   "metadata": {
    "slideshow": {
     "slide_type": "subslide"
    }
   },
   "source": [
    "### Tiempo cúbico $O(n^3)$\n",
    "\n",
    "* Enumeración de todos los tríos de elementos\n",
    "\n",
    "* Determinar si $n$ conjuntos son disjuntos\n",
    "    * Dados $n$ conjuntos $S_1, S_2, \\dots, S_n$ cada cual es subconjunto de $\\{1, 2, \\dots, n\\}$, determinar si existe algún par de conjuntos que sean disjuntos\n"
   ]
  },
  {
   "cell_type": "code",
   "execution_count": 28,
   "metadata": {
    "slideshow": {
     "slide_type": "subslide"
    }
   },
   "outputs": [
    {
     "name": "stdout",
     "output_type": "stream",
     "text": [
      "Los conjuntos son disjuntos\n"
     ]
    }
   ],
   "source": [
    "def disjoin_sets(L):\n",
    "    for i in range(len(L)):\n",
    "        for j in range(i + 1, len(L)):\n",
    "            if len(L[i].intersection(L[j])) > 0:\n",
    "                return False\n",
    "    return True\n",
    "\n",
    "L = [{1, 2, 3}, {4, 5, 6}, {7, 8, 9}, {10, 11, 12}]\n",
    "resultado = disjoin_sets(L)\n",
    "if resultado:\n",
    "    print(\"Los conjuntos son disjuntos\")\n",
    "else:\n",
    "    print(\"Los conjuntos no son disjuntos\")"
   ]
  },
  {
   "cell_type": "markdown",
   "metadata": {
    "slideshow": {
     "slide_type": "subslide"
    }
   },
   "source": [
    "### Tiempo polinomial $O(n^k)$\n",
    "\n",
    "* Conjunto independiente\n",
    "    * Dado un grafo, existen k nodos tales que no están unidos por una arista?\n",
    "    * Solución de tiempo de $O(n^k)$\n"
   ]
  },
  {
   "cell_type": "code",
   "execution_count": 34,
   "metadata": {
    "slideshow": {
     "slide_type": "subslide"
    }
   },
   "outputs": [
    {
     "name": "stdout",
     "output_type": "stream",
     "text": [
      "[[1, 2, 3], [1, 2, 4], [1, 2, 5], [1, 2, 6], [2, 3, 4], [2, 3, 5], [2, 3, 6], [3, 4, 5], [3, 4, 6], [4, 5, 6]]\n"
     ]
    }
   ],
   "source": [
    "def combinations(arr, n,k): \n",
    "    ret = []\n",
    "    for i in range(n):\n",
    "        for j in range(i+k-1,n):\n",
    "            temp = arr[i:i+k-1]\n",
    "            temp.append(arr[j])\n",
    "            ret.append(temp)\n",
    "\n",
    "    return ret\n",
    "\n",
    "arr = [1,2,3,4,5,6]\n",
    "print(combinations(arr,len(arr),3))"
   ]
  },
  {
   "cell_type": "markdown",
   "metadata": {
    "slideshow": {
     "slide_type": "subslide"
    }
   },
   "source": [
    "* Dado un conjunto de n elementos, calcular los subconjuntos de $k$ elementos\n",
    "\n",
    "$$\n",
    "\\left(\\begin{array}{l}\n",
    "n \\\\\n",
    "k\n",
    "\\end{array}\\right)=\\frac{n(n-1)(n-2) \\cdots(n-k+1)}{k(k-1)(k-2) \\cdots(2)(1)} \\leq \\frac{n^k}{k !} \\in O(n^k)\n",
    "$$\n",
    "\n"
   ]
  },
  {
   "cell_type": "markdown",
   "metadata": {
    "slideshow": {
     "slide_type": "slide"
    }
   },
   "source": [
    "## 2.4 Clasificación de los algoritmos"
   ]
  },
  {
   "cell_type": "markdown",
   "metadata": {
    "slideshow": {
     "slide_type": "subslide"
    }
   },
   "source": [
    "* Se suele decir que el orden de complejidad de un problema es el del mejor algoritmo que se conozca para resolverlo\n",
    "* Estudios han llevado a la constatación de que existen problemas muy difíciles, problemas que desafían la utilización de los computadoras para resolverlos\n",
    "\n",
    "    * Clase P\n",
    "\n",
    "    * Clase NP\n",
    "        * Clase NP-completos\n",
    "        * Clase NP-difícil"
   ]
  },
  {
   "cell_type": "markdown",
   "metadata": {
    "slideshow": {
     "slide_type": "subslide"
    }
   },
   "source": [
    "### Clase P\n",
    "\n",
    "* Los algoritmos de complejidad polinómica se dice que son tratables en el sentido de que suelen ser abordables en la práctica\n",
    "\n",
    "* Los problemas para los que se conocen algoritmos con esta complejidad se dice que forman la clase P\n",
    "\n",
    "* Aquellos problemas para los que la mejor solución que se conoce es de complejidad superior a la polinómica, se dice que son problemas intratables. Sería muy interesante encontrar alguna solución polinómica (o mejor) que permitiera abordarlos\n"
   ]
  },
  {
   "cell_type": "markdown",
   "metadata": {
    "slideshow": {
     "slide_type": "subslide"
    }
   },
   "source": [
    "### Clase NP\n",
    "\n",
    "* Algunos de estos problemas intratables pueden caracterizarse por el curioso hecho de que puede aplicarse un algoritmo polinómico para comprobar si una posible solución es válida o no\n",
    "\n",
    "* Esta característica lleva a un método de resolución no determinista consistente en aplicar heurísticos para obtener soluciones hipotéticas que se van desestimando (o aceptando) a ritmo polinómico\n",
    "\n",
    "* Los problemas de esta clase se denominan NP (la N de no-deterministas y la P de polinómicos)\n"
   ]
  },
  {
   "cell_type": "markdown",
   "metadata": {
    "slideshow": {
     "slide_type": "subslide"
    }
   },
   "source": [
    "### Clase NP-completo\n",
    "\n",
    "* Es el subconjunto de los problemas de decisión en NP tal que todo problema en NP se puede reducir en cada uno de los problemas de NP-completo\n",
    "\n",
    "* Se suele decir que son los peores problemas posibles de clase NP. Estos problemas se caracterizan por ser todos \"iguales\" en el sentido de que si se descubriera una solución P para alguno de ellos, esta solución sería fácilmente aplicable a todos ellos\n",
    "\n",
    "* Si se descubriera una solución para los problemas NP-completos, esta sería aplicable a todos los problemas NP y, por tanto, la clase NP desaparecería\n",
    "\n",
    "* *The Clay Mathematics Institute* ofrece un millón de dólares a quien sea capaz de responder a esa pregunta.\n"
   ]
  },
  {
   "cell_type": "markdown",
   "metadata": {
    "slideshow": {
     "slide_type": "subslide"
    }
   },
   "source": [
    "#### Satisfacibilidad booleana (SAT)\n",
    "\n",
    "El problema SAT es el problema de saber si, dada una expresión booleana con variables y sin cuantificadores, hay alguna asignación de valores para sus variables que hace que la expresión sea verdadera. Por ejemplo, una instancia de SAT sería el saber si existen valores para $x_1, x_2, x_3, x_4$ tales que la expresión \n",
    "\n",
    "$$ \\left(x_1 \\vee \\neg x_3\\right) \\wedge\\left(\\neg x_2 \\vee x_3 \\vee \\neg x_4\\right) $$ \n",
    "\n",
    "sea cierta.\n",
    "\n",
    "\n"
   ]
  },
  {
   "cell_type": "markdown",
   "metadata": {
    "slideshow": {
     "slide_type": "subslide"
    }
   },
   "source": [
    "#### Problema de la mochila (knapsack)\n",
    "\n",
    "Supongamos que tenemos $n$ distintos tipos de ítems, que van del 1 al $n$. De cada tipo de ítem se tienen $q_i$ ítems disponibles. Cada tipo de ítem $i$ tiene un beneficio asociado dado por $v_i$ y un peso (o volumen) $w_i$. \n",
    "\n",
    "Por otro lado se tiene una mochila, donde se pueden introducir los ítems, que soporta un peso máximo (o volumen máximo) $W$.\n",
    "\n",
    "El problema consiste en meter en la mochila ítems de tal forma que se maximice el valor de los ítems que contiene y siempre que no se supere el peso (o volumen) máximo que puede soportar la misma. \n"
   ]
  },
  {
   "cell_type": "markdown",
   "metadata": {
    "slideshow": {
     "slide_type": "subslide"
    }
   },
   "source": [
    "#### Problema del ciclo hamiltoniano\n",
    "\n",
    "En teoría de grafos, un camino hamiltoniano en un grafo es un camino (es decir, una sucesión de aristas adyacentes), que visita todos los vértices del grafo una sola vez. Si además el primer y último vértice visitado coincide, el camino es un ciclo hamiltoniano.\n",
    "\n",
    "<center>\n",
    "<img src='fig/Hamiltonian_path.png' width=400>"
   ]
  },
  {
   "cell_type": "markdown",
   "metadata": {
    "slideshow": {
     "slide_type": "subslide"
    }
   },
   "source": [
    "#### Problema del vendedor viajero\n",
    "\n",
    "TSP por sus siglas en inglés, Travelling Salesman Problem, responde a la siguiente pregunta: dada una lista de ciudades y las distancias entre cada par de ellas, ¿cuál es la ruta más corta posible que visita cada ciudad exactamente una vez y al finalizar regresa a la ciudad origen? "
   ]
  },
  {
   "cell_type": "markdown",
   "metadata": {
    "slideshow": {
     "slide_type": "subslide"
    }
   },
   "source": [
    "#### Problema del conjunto independiente\n",
    "\n",
    "En teoría de grafos, un conjunto independiente o estable es un conjunto de vértices en un grafo tal que ninguno de sus vértices es adyacente a otro. Es decir, es un conjunto V de vértices tal que para ningún par de ellos existe alguna arista que los conecten. \n",
    "\n",
    "<center>\n",
    "<img src='fig/Independent_set_graph.png' width=400>"
   ]
  },
  {
   "cell_type": "markdown",
   "metadata": {
    "slideshow": {
     "slide_type": "subslide"
    }
   },
   "source": [
    "### Clase NP-difícil\n",
    "\n",
    "* Intuitivamente estos son los problemas que son más difíciles que los NP-completos\n",
    "\n",
    "* Existen problemas NP-hard que no son NP-completos, por ejemplo \n",
    "    * El problema de parada\n",
    "        * Consiste en lo siguiente: dada una Máquina de Turing $M$ y una palabra $w$, determinar si $M$ terminará en un número finito de pasos cuando es ejecutada usando $w$ como dato de entrada.\n",
    "    * La suma de subconjuntos\n",
    "        * Dado un conjunto de enteros, ¿existe algún subconjunto cuya suma sea exactamente cero? Por ejemplo, dado el conjunto $\\{-7,-3,-2,5,8\\}$, la respuesta es SI, porque el subconjunto $\\{-3,-2,5\\}$ suma cero. \n",
    "        * Un problema equivalente es: dado un conjunto de enteros y un entero $s$, ¿existe algún subconjunto cuya suma sea $s$ ? \n",
    "        * La suma de subconjuntos también puede verse como un caso especial del problema de la mochila.\n"
   ]
  },
  {
   "cell_type": "markdown",
   "metadata": {
    "slideshow": {
     "slide_type": "subslide"
    }
   },
   "source": [
    "<center>\n",
    "<img src='fig/p_vs_np.png' height=600>"
   ]
  }
 ],
 "metadata": {
  "kernelspec": {
   "display_name": "curso_pdi",
   "language": "python",
   "name": "python3"
  },
  "language_info": {
   "codemirror_mode": {
    "name": "ipython",
    "version": 3
   },
   "file_extension": ".py",
   "mimetype": "text/x-python",
   "name": "python",
   "nbconvert_exporter": "python",
   "pygments_lexer": "ipython3",
   "version": "3.11.5"
  }
 },
 "nbformat": 4,
 "nbformat_minor": 2
}
