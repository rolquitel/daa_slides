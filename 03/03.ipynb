{
 "cells": [
  {
   "cell_type": "markdown",
   "metadata": {
    "slideshow": {
     "slide_type": "slide"
    }
   },
   "source": [
    "# Unidad 3. Grafos"
   ]
  },
  {
   "cell_type": "markdown",
   "metadata": {
    "slideshow": {
     "slide_type": "slide"
    }
   },
   "source": [
    "## 3.1. Definciones básicas y aplicaciones"
   ]
  },
  {
   "cell_type": "markdown",
   "metadata": {
    "slideshow": {
     "slide_type": "subslide"
    }
   },
   "source": [
    "### Grafos\n",
    "\n",
    "* un grafo (del griego *grafos*: dibujo, imagen) es un conjunto de objetos llamados vértices o nodos unidos por enlaces llamados aristas o arcos\n",
    "\n",
    "* Permiten representar relaciones binarias entre elementos del conjunto de vértices\n",
    "\n",
    "* Son objeto de estudio de la teoría de grafos.\n",
    "\n",
    "* Típicamente, un grafo se representa gráficamente como un conjunto de puntos (vértices o nodos) unidos por líneas (aristas).\n"
   ]
  },
  {
   "cell_type": "markdown",
   "metadata": {
    "slideshow": {
     "slide_type": "subslide"
    }
   },
   "source": [
    "<center>\n",
    "<img src='fig/grafo1.png' width=400>"
   ]
  },
  {
   "cell_type": "markdown",
   "metadata": {
    "slideshow": {
     "slide_type": "subslide"
    }
   },
   "source": [
    "<center>\n",
    "<img src='fig/grafo2.png' width=600>"
   ]
  },
  {
   "cell_type": "markdown",
   "metadata": {
    "slideshow": {
     "slide_type": "subslide"
    }
   },
   "source": [
    "<center>\n",
    "<img src='fig/grafo3.png' width=600>"
   ]
  },
  {
   "cell_type": "markdown",
   "metadata": {
    "slideshow": {
     "slide_type": "subslide"
    }
   },
   "source": [
    "Desde un punto de vista práctico, los grafos permiten estudiar las interrelaciones entre unidades que interactúan unas con otras\n",
    "\n",
    "Por ejemplo, una red de computadoras puede cepresentarse y estudiarse mediante un grafo, en el cual los vértices representan terminales y las aristas representan conexiones\n",
    "\n",
    "Prácticamente cualquier problema puede representarse mediante un grafo, y su estudio trasciende a las diversas áreas de las ciencias exactas y las ciencias sociales"
   ]
  },
  {
   "cell_type": "markdown",
   "metadata": {
    "slideshow": {
     "slide_type": "subslide"
    }
   },
   "source": [
    "### Aplicaciones"
   ]
  },
  {
   "cell_type": "markdown",
   "metadata": {
    "slideshow": {
     "slide_type": "subslide"
    }
   },
   "source": [
    "<center>\n",
    "<img src='fig/red_espana.png' width=600>"
   ]
  },
  {
   "cell_type": "markdown",
   "metadata": {
    "slideshow": {
     "slide_type": "subslide"
    }
   },
   "source": [
    "<center>\n",
    "<img src='fig/www.png' width=600>"
   ]
  },
  {
   "cell_type": "markdown",
   "metadata": {
    "slideshow": {
     "slide_type": "subslide"
    }
   },
   "source": [
    "<center>\n",
    "<img src='fig/amistades.png' width=600>"
   ]
  },
  {
   "cell_type": "markdown",
   "metadata": {
    "slideshow": {
     "slide_type": "subslide"
    }
   },
   "source": [
    "<center>\n",
    "<img src='fig/uml.jpg' width=600>"
   ]
  },
  {
   "cell_type": "markdown",
   "metadata": {
    "slideshow": {
     "slide_type": "subslide"
    }
   },
   "source": [
    "<center>\n",
    "<img src='fig/circuito.jpg' width=600>"
   ]
  },
  {
   "cell_type": "markdown",
   "metadata": {
    "slideshow": {
     "slide_type": "subslide"
    }
   },
   "source": [
    "<center>\n",
    "<img src='fig/ontologia.jpg' width=600>"
   ]
  },
  {
   "cell_type": "markdown",
   "metadata": {
    "slideshow": {
     "slide_type": "subslide"
    }
   },
   "source": [
    "### Definiciones\n",
    "\n",
    "- Un grafo es un par $G=(V, E)$, donde $V$ es un conjunto de vértices o nodos y $\\mathrm{E}$ es un conjunto de aristas o arcos que relacionan a dichos nodos\n",
    "\n",
    "- Se llama orden del grafo $G$ al número de vértices que tiene, es decir, a la cardinalidad del conjunto V (|V|)\n",
    "\n",
    "- El grado deg(v) de un nodo $\\mathrm{v} \\in \\mathrm{V}$ es el número de aristas que están conectadas a él\n",
    "\n",
    "- Tomaremos la convención de\n",
    "$$\n",
    "\\begin{aligned}\n",
    "& n=|V| \\\\\n",
    "& m=|E|\n",
    "\\end{aligned}\n",
    "$$"
   ]
  },
  {
   "cell_type": "markdown",
   "metadata": {
    "slideshow": {
     "slide_type": "subslide"
    }
   },
   "source": [
    "### Grafo no dirigido\n",
    "\n",
    "Un grafo no dirigido es un grafo $G=(V, E)$, donde:\n",
    "\n",
    "- $\\mathrm{V} \\neq \\varnothing$, es decir, $\\mathrm{V}$ no está vacío\n",
    "\n",
    "- $E \\subseteq\\{x \\in P(V):|x|=2\\}$, es decir, $E$ es es un conjunto de pares NO ordenados de elementos de $\\mathrm{V}$\n",
    "\n",
    "- Ejemplo:V:=\\{1,2,3,4,5,6\\}, E:=\\{\\{1,2\\},\\{1,5\\},\\{2,3\\},\\{2,5\\},\\{3,4\\},\\{4,5\\},\\{4,6\\}\\}\n",
    "\n",
    "<center>\n",
    "<img src='fig/no_dirigido.png' width=600>"
   ]
  },
  {
   "cell_type": "markdown",
   "metadata": {
    "slideshow": {
     "slide_type": "subslide"
    }
   },
   "source": [
    "### Grafo dirigido\n",
    "\n",
    "Un grafo dirigido es un grafo $G=(V, E)$, donde:\n",
    "- $\\mathrm{V} \\neq \\emptyset$\n",
    "\n",
    "- $\\mathrm{E} \\subseteq \\mathrm{V} \\times \\mathrm{V}$, es decir, $\\mathrm{E}$ es es un conjunto de pares ordenados de elementos de $\\mathrm{V}$\n",
    "\n",
    "- Ejemplo:V:=\\{1,2,3,4,5,6\\}, E:=\\{\\{1,2\\},\\{1,5\\},\\{2,3\\},\\{2,5\\},\\{3,4\\},\\{4,5\\},\\{4,6\\}\\}\n",
    "\n",
    "<center>\n",
    "<img src='fig/dirigido.png' width=600>"
   ]
  },
  {
   "cell_type": "markdown",
   "metadata": {
    "slideshow": {
     "slide_type": "subslide"
    }
   },
   "source": [
    "### Representación de grafos\n",
    "\n",
    "Son las estructuras de datos necesarias para manejar la representación computacional de un grafo\n",
    "\n",
    "- Listas de nodos\n",
    "\n",
    "- Matriz de adyacencia\n",
    "\n",
    "- Conjuntos"
   ]
  },
  {
   "cell_type": "markdown",
   "metadata": {
    "slideshow": {
     "slide_type": "subslide"
    }
   },
   "source": [
    "#### Lista de nodos adyacentes\n",
    "\n",
    "- Doble representación de nodos\n",
    "\n",
    "- Espacio proporcional a $m+n$\n",
    "\n",
    "- Verificar la existencia de la arista (u,v) toma O(deg(v))\n",
    "\n",
    "- Enlistar todos las aristas del grafo toma $\\Theta(m+n)$"
   ]
  },
  {
   "cell_type": "markdown",
   "metadata": {
    "slideshow": {
     "slide_type": "subslide"
    }
   },
   "source": [
    "<center>\n",
    "<img src='fig/grafo_rep.png' height='400'>\n",
    "<img src='fig/lista_adyacencia.png' height='400'>"
   ]
  },
  {
   "cell_type": "markdown",
   "metadata": {
    "slideshow": {
     "slide_type": "subslide"
    }
   },
   "source": [
    "#### Matriz de adyacencia\n",
    "\n",
    "- Es una matriz $A$ de $n$ por $n$, en la cual $A_{u v}=1$ si $(u, v) \\in E$\n",
    "\n",
    "- Dos representaciones para cada arista\n",
    "\n",
    "- Se requiere $\\mathrm{O}\\left(\\mathrm{n}^2\\right)$ de espacio\n",
    "\n",
    "- Checar si (u,v) es una arista toma $\\Theta$ (1)\n",
    "\n",
    "- Listar todas las aristas del grafo toma $\\Theta\\left(n^2\\right)$"
   ]
  },
  {
   "cell_type": "markdown",
   "metadata": {
    "slideshow": {
     "slide_type": "subslide"
    }
   },
   "source": [
    "<center>\n",
    "<img src='fig/matriz_adyascencia.png' height='400'>"
   ]
  },
  {
   "cell_type": "markdown",
   "metadata": {
    "slideshow": {
     "slide_type": "subslide"
    }
   },
   "source": [
    "#### Representación con conjuntos\n",
    "\n",
    "- Con base en la definición de grafo\n",
    "$$\n",
    "\\begin{aligned}\n",
    "& \\mathrm{V}=\\{1,2,3,4,5,6,7,8\\} \\\\\n",
    "& \\mathrm{E}=\\{\\{1,2\\},\\{1,3\\},\\{2,3\\},\\{2,4\\}, \\\\\n",
    "& \\{2,5\\},\\{3,5\\},\\{3,7\\},\\{3,8\\},\\{4,5\\}, \\\\\n",
    "& \\{5,6\\},\\{7,8\\}\\}\n",
    "\\end{aligned}\n",
    "$$\n",
    "\n",
    "- Requiere $\\mathrm{O}(\\mathrm{m}+\\mathrm{n})$ de espacio\n",
    "\n",
    "- Checar si (u,v) es una arista toma $\\Theta(\\mathrm{m})$\n",
    "\n",
    "- Listar todas las aristas del grafo toma $\\Theta(\\mathrm{m})$"
   ]
  },
  {
   "cell_type": "markdown",
   "metadata": {
    "slideshow": {
     "slide_type": "subslide"
    }
   },
   "source": [
    "### Proyecto 1 - Generación de grafos aleatorios\n",
    "\n",
    "1. Escribir una biblioteca en Python para el manejo de grafos.\n",
    "1. Escribir los métodos para generar grafos aleatorios con los siguientes modelos de generación:\n",
    "\n",
    "    - Modelo $G_{n, m}$ de Erdös y Rényi\n",
    "    - Modelo $G_{n, p}$ de Gilbert\n",
    "    - Modelo $G_{n, x}$ geográfico simple\n",
    "    - Variante del modelo $G_{n, d}$ Barabási-Albert\n",
    "    - Modelo $G_{n}$ de Dorogovsev-Mendes\n",
    "\n",
    "1. Escribir los métodos para generar un grafo tipo malla, donde se dan como parámetros el número de filas y el número de columnas"
   ]
  },
  {
   "cell_type": "markdown",
   "metadata": {
    "slideshow": {
     "slide_type": "subslide"
    }
   },
   "source": [
    "#### Modelo $G_{n, m}$ de Erdös y Rényi\n",
    "\n",
    "Crear $n$ vértices y elegir uniformemente al azar $m$ distintos pares de distintos vértices, y crear una arista entre ellos.\n",
    "\n",
    "<center>\n",
    "<video src='fig/erdos.mov' controls width=\"640\" height=\"480\">"
   ]
  },
  {
   "cell_type": "markdown",
   "metadata": {
    "slideshow": {
     "slide_type": "subslide"
    }
   },
   "source": [
    "#### Modelo $G_{n, p}$ de Gilbert\n",
    "Crear $n$ vértices y poner una arista entre cada par independiente y uniformemente con probabilidad $p$.\n",
    "\n",
    "<center>\n",
    "<video src='fig/gilbert.mov' controls width=\"640\" height=\"480\">"
   ]
  },
  {
   "cell_type": "markdown",
   "metadata": {
    "slideshow": {
     "slide_type": "subslide"
    }
   },
   "source": [
    "#### Modelo $G_{n, r}$ geográfico simple\n",
    "\n",
    "Colocar $n$ vértices en un rectángulo unitario (virtual) con coordenadas uniformes (o normales) y colocar una arista entre cada par de nodos cuya distancia sea de $r$ o menor.\n",
    "\n",
    "<center>\n",
    "<video src='fig/geografico.mov' controls width=\"640\" height=\"480\">"
   ]
  },
  {
   "cell_type": "markdown",
   "metadata": {
    "slideshow": {
     "slide_type": "subslide"
    }
   },
   "source": [
    "#### Variante del modelo $\\boldsymbol{G}_{n, d}$ Barabási-Albert\n",
    "\n",
    "Colocar $n$ vértices uno por uno, asignando a cada uno $d$ aristas a vértices distintos de tal manera que la probabilidad de que el vértice nuevo se conecte $a$ un vértice existente $v$ es proporcional a la cantidad de aristas que $v$ tiene actualmente - los primeros $d$ vértices se conecta todos a todos\n",
    "\n",
    "<center>\n",
    "<video src='fig/barabasi.mov' controls width=\"640\" height=\"480\">"
   ]
  },
  {
   "cell_type": "markdown",
   "metadata": {
    "slideshow": {
     "slide_type": "subslide"
    }
   },
   "source": [
    "#### Modelo $G_n$ Dorogovtsev-Mendes\n",
    "\n",
    "Crear 3 nodos y 3 aristas formando un triángulo. Después, para cada nodo adicional, se selecciona una arista al azar y se crean aristas entre el nodo nuevo y los extremos de la arista seleccionada\n",
    "\n",
    "<center>\n",
    "<iframe width=\"640\" height=\"480\" src=\"https://www.youtube.com/embed/BxXwp1lGTmI?si=xHgDT_d9wuE2s2mB\" title=\"YouTube video player\" frameborder=\"0\" allow=\"accelerometer; autoplay; clipboard-write; encrypted-media; gyroscope; picture-in-picture; web-share\" >\n",
    "</iframe>"
   ]
  },
  {
   "cell_type": "code",
   "execution_count": 1,
   "metadata": {},
   "outputs": [
    {
     "data": {
      "application/javascript": "IPython.load_ipython_extensions([\n  \"nb-mermaid/nb-mermaid\"\n]);\n",
      "text/plain": [
       "<IPython.core.display.Javascript object>"
      ]
     },
     "metadata": {},
     "output_type": "display_data"
    }
   ],
   "source": [
    "%%javascript\n",
    "IPython.load_ipython_extensions([\n",
    "  \"nb-mermaid/nb-mermaid\"\n",
    "]);"
   ]
  },
  {
   "cell_type": "markdown",
   "metadata": {
    "slideshow": {
     "slide_type": "slide"
    }
   },
   "source": [
    "## 3.2. Conectividad y recorrido de grafos"
   ]
  },
  {
   "cell_type": "markdown",
   "metadata": {
    "slideshow": {
     "slide_type": "subslide"
    }
   },
   "source": [
    "### Camino\n",
    "\n",
    "- Un camino es una secuencia de nodos que están unidos por arístas\n",
    "\n",
    "- Por ejemplo: 4,5,2,3,1,2\n",
    "\n",
    "<center>\n",
    "<img src='./fig/camino.png' width=400>\n"
   ]
  },
  {
   "cell_type": "markdown",
   "metadata": {
    "slideshow": {
     "slide_type": "subslide"
    }
   },
   "source": [
    "Un camino en un grafo no dirigido $G=(V,E)$ es una secuencia $P$ de nodos $v_1, v_2, …,v_{k-1},v_k$ con la propiedad de que para cada par consecutivo $v_i,v_{i+1}$ está unido por una arista, es decir $(v_i,v_{i+1}) \\in E,1 \\leq i \\leq k-1 $\n",
    "\n",
    "Un camino es simple si todos los nodos en $P$ son distintos, es decir que el camino no pasa dos veces por el mismo nodo\n"
   ]
  },
  {
   "cell_type": "markdown",
   "metadata": {
    "slideshow": {
     "slide_type": "subslide"
    }
   },
   "source": [
    "### Conectividad\n",
    "\n",
    "Un grafo no dirigido está conectado si para cada par de nodos $(u,v)$ existe un camino entre ellos\n",
    "\n",
    "<center>\n",
    "<img src='./fig/conectividad.png' width=400>\n"
   ]
  },
  {
   "cell_type": "markdown",
   "metadata": {
    "slideshow": {
     "slide_type": "subslide"
    }
   },
   "source": [
    "### Bucle\n",
    "\n",
    "Es una arista cuyo nodo fuente y nodo destino son el mismo.\n",
    "\n",
    "<div align='center'>\n",
    "    <img src='./fig/bucle.png' width=400>\n",
    "<div>\n",
    "    "
   ]
  },
  {
   "cell_type": "markdown",
   "metadata": {
    "slideshow": {
     "slide_type": "subslide"
    }
   },
   "source": [
    "### Ciclos \n",
    "\n",
    "Un ciclo en un grafo no dirigido $G=(V,E)$ es un camino $v_1, v_2, \\dots ,v_{k-1},v_k$  en donde $v_1=v_k, k>2$ y los primeros $k-1$ nodos son diferentes\n",
    "\n",
    "<center>\n",
    "<img src='./fig/ciclo.png' width=200>\n"
   ]
  },
  {
   "cell_type": "markdown",
   "metadata": {
    "slideshow": {
     "slide_type": "subslide"
    }
   },
   "source": [
    "### Árboles\n",
    "\n",
    "Un grafo no dirigido $G=(V,E)$ es un árbol si está conectado y no contiene ciclos.\n",
    "\n",
    "<center>\n",
    "<img src='./fig/arbol.png' width=500>\n"
   ]
  },
  {
   "cell_type": "markdown",
   "metadata": {
    "slideshow": {
     "slide_type": "subslide"
    }
   },
   "source": [
    "Sea $G=(V,E)$ un grafo no dirigido y es un árbol, entonces las siguientes sentencias son equivalentes:\n",
    "\n",
    "1. Está conectado y no contiene ciclos\n",
    "\n",
    "1. Cualquier par de nodos en $G$ están conectados por un único camino simple\n",
    "\n",
    "1. Si se remueve cualquier arista del conjunto $E$ el grafo resultante está desconectado\n",
    "\n",
    "1. |V|=|E|+1\n",
    "\n",
    "1. Si se agrega una arista a E, el grafo resultante contiene un ciclo\n"
   ]
  },
  {
   "cell_type": "markdown",
   "metadata": {
    "slideshow": {
     "slide_type": "subslide"
    }
   },
   "source": [
    "#### Demostración $1 \\Rightarrow 2$\n",
    "\n",
    "Está conectado y no contiene ciclos $\\Rightarrow$ Cualquier par de nodos en $G$ están conectados por un único camino simple\n",
    "\n",
    "+ Un árbol está conectado, por lo que cualesquiera dos vértices en G están conectados por lo menos por un camino simple\n",
    "\n",
    "+ Sean $u,v \\in V$ que están conectados por dos distintos caminos simples, si concatenamos los caminos resulta que  $G$ tiene un ciclo!\n"
   ]
  },
  {
   "cell_type": "markdown",
   "metadata": {
    "slideshow": {
     "slide_type": "subslide"
    }
   },
   "source": [
    "#### Demostración $2 \\Rightarrow 3$\n",
    "\n",
    "Cualquier par de nodos en $G$ están conectados por un único camino simple $\\Rightarrow$ si se remueve cualquier arista del conjunto $E$ el grafo resultante está desconectado\n",
    "\n",
    "+ Sea $(u,v) \\in E$, está arista es el camino entre $u$ y $v$\n",
    "\n",
    "+ Si removemos la arista $(u,v)$ de $E$, no habrá camino entre $u$ y $v$, por lo que $G$ será desconectado\n"
   ]
  },
  {
   "cell_type": "markdown",
   "metadata": {
    "slideshow": {
     "slide_type": "subslide"
    }
   },
   "source": [
    "#### Demostración $3 \\Rightarrow 4$\n",
    "\n",
    "Si se remueve cualquier arista del conjunto $E$ el grafo resultante está desconectado $\\Rightarrow$ $|V|=|E|+1$\n",
    "\n",
    "+ Supongamos que $|V|=|E|+1$ para cualquier árbol de $k$ aristas\n",
    "\n",
    "+ Sea $(u,v) \\in E$, si removemos $(u,v)$ de $E$, entonces G será desconectado\n",
    "\n",
    "+ Tendremos dos grafos $G_1=(V_1,E_1)$ y $G_2=(V_2,E_2)$ con $0 \\leq |E1|,|E2| \\leq k$\n",
    "\n",
    "+ $|V|=|V1|+|V2|=(|E1|+1)+(|E2|+1)=(|E1|+|E2|+1)+1=|E|+1$\n"
   ]
  },
  {
   "cell_type": "markdown",
   "metadata": {
    "slideshow": {
     "slide_type": "subslide"
    }
   },
   "source": [
    "#### Demostración $4 \\Rightarrow 5$\n",
    "\n",
    "$|V|=|E|+1$ $\\Rightarrow$ $G$ no tiene ciclos\n",
    "\n",
    "+ Supongamos que $G$ tiene un ciclo que contiene $k$ nodos $v_1, v_2,\\dots,v_k$\n",
    "\n",
    "+ Sea $G_k=(V_k,E_k)$. Note que $|V_k|=|E_k|=k$\n",
    "\n",
    "+ Si $k<|V|$, dado que $G$ está conectado debe haber un nodo $v_{k+1}$ en $V-V_k$ que es adyacente a algún nodo $v_i$ en $V_k$ \n",
    "\n",
    "+ Definamos un grafo $G_{k+1} =(V_{k+1} , E_{k+1} )$ como $V_{k+1} =V_k \\cup {v_{k+1} }$ y $E_{k+1} =E_k \\cup {(v_{k+1} ,v_i)}$. Note que $|V_{k+1} |=|E_{k+1} |=k+1$\n",
    "\n",
    "+ Si $k+1<|V|$ podemos definir $G_{k+2},\\dots,G_n=(V_n,E_n)$ donde $n=|V|$, $V_n=V$ y $|E_n|=|V_n|=|V|$\n",
    "$G_n$ es un subgrafo de $G$, por lo que $E_n \\subseteq E \\Rightarrow |V|≤|E|!$\n"
   ]
  },
  {
   "cell_type": "markdown",
   "metadata": {
    "slideshow": {
     "slide_type": "subslide"
    }
   },
   "source": [
    "#### Demostración $5 \\Rightarrow 6$\n",
    "\n",
    "G no tiene ciclos $\\Rightarrow$ $G$ no tiene ciclos, si se agrega una arista a $E$, el grafo resultante contiene un ciclo\n",
    "\n",
    "+ Cualesquiera par de nodos están conectados por un solo camino simple\n",
    "\n",
    "+ Sea $(u,v)$ una arista que no está en $E$, si agregamos $(u,v)$ a $E$, entonces habrá dos caminos entre $u$ y $v$, por lo que se crea un ciclo!\n",
    "\n",
    "+ Por otro lado: $|E’|=|E|+1=|V|!$\n"
   ]
  },
  {
   "cell_type": "markdown",
   "metadata": {
    "slideshow": {
     "slide_type": "subslide"
    }
   },
   "source": [
    "### Raíces en árboles\n",
    "\n",
    "Dado un árbol $T$ cualquier nodo $r \\in V$ puede ser utilizado como raíz de $T$\n",
    "\n",
    "<center>\n",
    "<img src='./fig/raices.png' width=800>\n"
   ]
  },
  {
   "cell_type": "markdown",
   "metadata": {
    "slideshow": {
     "slide_type": "subslide"
    }
   },
   "source": [
    "## Conectividad\n",
    "\n",
    "Dada una pareja de nodos s y t\n",
    "\n",
    "+ El problema de conectividad s-t consiste en \n",
    "\n",
    "    + contestar si existe un camino entre s y t\n",
    "\n",
    "    + determinar el camino entre s y t\n",
    "\n",
    "+ El problema del camino más corto s-t consiste en\t\n",
    "\n",
    "    + determinar la longitud del camino más corto entre s y t\n",
    "    \n",
    "    + determinar el camino mas corto entre s y t\n"
   ]
  },
  {
   "cell_type": "markdown",
   "metadata": {
    "slideshow": {
     "slide_type": "subslide"
    }
   },
   "source": [
    "### Componente conectado\n",
    "\n",
    "Dado un nodo $u \\in V$, el componente conectado del grafo $G=(V,E)$ al nodo $u$ es el conjunto de nodos $v \\in V$  para los cuales existe un camino que los conecte con $u$\n",
    "\n",
    "$$\n",
    "K(u)=\\left\\{v \\in V: \\exists P=\\{v_1, v_2, \\dots, v_k\\},(v_i, v_{i-1}) \\in E, 1 \\leq i \\leq k, v_1 = u, v_k = v  \\right\\}\n",
    "$$\n",
    "\n",
    "<center>\n",
    "<img src='./fig/componente_conectado.png' width=800>"
   ]
  },
  {
   "cell_type": "markdown",
   "metadata": {
    "slideshow": {
     "slide_type": "subslide"
    }
   },
   "source": [
    "### Busqueda a lo ancho (BFS)\n",
    "\n",
    "*Breadth First Search*\n",
    "\n",
    "* Explorar desde s y hacia fuera en todas las direcciones posibles, añadiendo nodos una “capa” a la vez\n",
    "\n",
    "<center>\n",
    "<img src='./fig/bfs.png' width = 800>\n",
    "\n"
   ]
  },
  {
   "cell_type": "markdown",
   "metadata": {
    "slideshow": {
     "slide_type": "subslide"
    }
   },
   "source": [
    "Algoritmo\n",
    "\n",
    "+ $L_0=\\{s\\}$\n",
    "\n",
    "+ $L_1$ contiene los nodos que no pertenecen a $L_0$ y tienen una arista con algún nodo en $L_0$\n",
    "\n",
    "+ $L_2$ contiene los nodos que no pertenecen a $L_0$ o $L_1$ y que tienen una arista con algún nodo en $L_1$\n",
    "\n",
    "+ $L_i$ contiene los nodos que no pertenecen a $L_j, j<i$ y que tienen una arista con algún nodo en $L_{i-1}$\n"
   ]
  },
  {
   "cell_type": "markdown",
   "metadata": {
    "slideshow": {
     "slide_type": "subslide"
    }
   },
   "source": [
    "Para cada $j$, $L_j$ consiste de todos los nodos que están exactamente a distancia $j$ desde $s$\n",
    "\n",
    "Hay un camino entre $s$ y $t$ ssi $t$ aparece en alguna capa\n",
    "\n",
    "Como resultado se obtiene un árbol llamado árbol BFS\n",
    "\n",
    "+ $s$ es la raíz\n",
    "\n",
    "+ Los elementos de $L_1$ tienen una arista con $s$\n",
    "\n",
    "+ Los elementos de $L_2$ tienen una arista con un elemento de $L_1$\n",
    "\n",
    "+ Los elementos de $L_i$ tienen una arista con un elemento de $L_{i-1}$\n"
   ]
  },
  {
   "cell_type": "markdown",
   "metadata": {
    "slideshow": {
     "slide_type": "subslide"
    }
   },
   "source": [
    "<center>\n",
    "<img src='./fig/bfs1.png' height=400>\n",
    "<img src='./fig/bfs2.png' height=400>\n"
   ]
  },
  {
   "cell_type": "markdown",
   "metadata": {
    "slideshow": {
     "slide_type": "subslide"
    }
   },
   "source": [
    "<center>\n",
    "<img src='./fig/bfs_algo.png' width=900>"
   ]
  },
  {
   "cell_type": "markdown",
   "metadata": {
    "slideshow": {
     "slide_type": "subslide"
    }
   },
   "source": [
    "<center>\n",
    "<video src='fig/bfs.mov' controls width=\"640\" height=\"480\">"
   ]
  },
  {
   "cell_type": "markdown",
   "metadata": {
    "slideshow": {
     "slide_type": "subslide"
    }
   },
   "source": [
    "### Tarea 1\n",
    "\n",
    "Demostrar que:\n",
    "\n",
    "Sea $T$ el árbol BFS del grafo $G=(V,E)$ y sea $(x,y)$ una arista, entonces el nivel de $x$ y $y$ difieren en $1$  \n"
   ]
  },
  {
   "cell_type": "markdown",
   "metadata": {
    "slideshow": {
     "slide_type": "subslide"
    }
   },
   "source": [
    "### Búsqueda en profundidad\n",
    "\n",
    "*Deep-First Search (DFS)*\n",
    "\n",
    "+ es un algoritmo que permite recorrer todos los nodos de un grafo o árbol de manera ordenada, pero no uniforme\n",
    "Su funcionamiento consiste en ir expandiendo todos y cada uno de los nodos que va localizando, de forma recurrente, en un camino concreto\n",
    "\n",
    "+ Cuando ya no quedan más nodos que visitar en dicho camino, regresa (*backtracking*), de modo que repite el mismo proceso con cada uno de los hermanos del nodo ya procesado\n",
    "\n",
    "+ Genera un árbol T de búsqueda\n"
   ]
  },
  {
   "cell_type": "markdown",
   "metadata": {
    "slideshow": {
     "slide_type": "subslide"
    }
   },
   "source": [
    "<center>\n",
    "<img src='fig/dfs.png' width = 800>"
   ]
  },
  {
   "cell_type": "markdown",
   "metadata": {
    "slideshow": {
     "slide_type": "subslide"
    }
   },
   "source": [
    "<center>\n",
    "<video src='fig/dfs.mov' controls width=\"640\" height=\"480\">"
   ]
  },
  {
   "cell_type": "markdown",
   "metadata": {
    "slideshow": {
     "slide_type": "subslide"
    }
   },
   "source": [
    "Para una llamada DFS($u$), todos los nodos marcados como “explorados” entre la invocación y el regreso, son descendientes de $u$ en el árbol $T$\n",
    "\n",
    "Teorema\n",
    "+ Sea $T$ un árbol DFS, sean $u$ y $v$ nodos en $T$ y sea $(u,v)$ una arista en el grafo $G$ que no existe en $T$, entonces $u$ es ancestro de $v$ ó $v$ es ancestro de $u$\n",
    "\n",
    "¿Demostración?\n"
   ]
  },
  {
   "cell_type": "markdown",
   "metadata": {
    "slideshow": {
     "slide_type": "subslide"
    }
   },
   "source": [
    "<center>\n",
    "<video src='fig/bfs-dfs.mov' controls width=\"640\" height=\"480\">"
   ]
  },
  {
   "cell_type": "markdown",
   "metadata": {
    "slideshow": {
     "slide_type": "subslide"
    }
   },
   "source": [
    "<center>\n",
    "<video src='fig/bfs-dfs-g.mov' controls width=\"640\" height=\"480\">"
   ]
  },
  {
   "cell_type": "markdown",
   "metadata": {
    "slideshow": {
     "slide_type": "subslide"
    }
   },
   "source": [
    "### Proyecto 2"
   ]
  },
  {
   "cell_type": "markdown",
   "metadata": {
    "slideshow": {
     "slide_type": "slide"
    }
   },
   "source": [
    "## 3.3. Bipartición"
   ]
  }
 ],
 "metadata": {
  "kernelspec": {
   "display_name": "curso_pdi",
   "language": "python",
   "name": "python3"
  },
  "language_info": {
   "codemirror_mode": {
    "name": "ipython",
    "version": 3
   },
   "file_extension": ".py",
   "mimetype": "text/x-python",
   "name": "python",
   "nbconvert_exporter": "python",
   "pygments_lexer": "ipython3",
   "version": "3.11.5"
  }
 },
 "nbformat": 4,
 "nbformat_minor": 2
}
