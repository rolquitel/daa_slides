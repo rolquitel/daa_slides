{
 "cells": [
  {
   "cell_type": "markdown",
   "metadata": {
    "slideshow": {
     "slide_type": "slide"
    }
   },
   "source": [
    "# Unidad 3. Grafos"
   ]
  },
  {
   "cell_type": "markdown",
   "metadata": {
    "slideshow": {
     "slide_type": "slide"
    }
   },
   "source": [
    "## 3.1. Definciones básicas y aplicaciones"
   ]
  },
  {
   "cell_type": "markdown",
   "metadata": {
    "slideshow": {
     "slide_type": "subslide"
    }
   },
   "source": [
    "### Grafos\n",
    "\n",
    "* un grafo (del griego *grafos*: dibujo, imagen) es un conjunto de objetos llamados vértices o nodos unidos por enlaces llamados aristas o arcos\n",
    "\n",
    "* Permiten representar relaciones binarias entre elementos del conjunto de vértices\n",
    "\n",
    "* Son objeto de estudio de la teoría de grafos.\n",
    "\n",
    "* Típicamente, un grafo se representa gráficamente como un conjunto de puntos (vértices o nodos) unidos por líneas (aristas).\n"
   ]
  },
  {
   "cell_type": "markdown",
   "metadata": {
    "slideshow": {
     "slide_type": "subslide"
    }
   },
   "source": [
    "<center>\n",
    "<img src='fig/grafo1.png' width=400>"
   ]
  },
  {
   "cell_type": "markdown",
   "metadata": {
    "slideshow": {
     "slide_type": "subslide"
    }
   },
   "source": [
    "<center>\n",
    "<img src='fig/grafo2.png' width=600>"
   ]
  },
  {
   "cell_type": "markdown",
   "metadata": {
    "slideshow": {
     "slide_type": "subslide"
    }
   },
   "source": [
    "<center>\n",
    "<img src='fig/grafo3.png' width=600>"
   ]
  },
  {
   "cell_type": "markdown",
   "metadata": {
    "slideshow": {
     "slide_type": "subslide"
    }
   },
   "source": [
    "Desde un punto de vista práctico, los grafos permiten estudiar las interrelaciones entre unidades que interactúan unas con otras\n",
    "\n",
    "Por ejemplo, una red de computadoras puede cepresentarse y estudiarse mediante un grafo, en el cual los vértices representan terminales y las aristas representan conexiones\n",
    "\n",
    "Prácticamente cualquier problema puede representarse mediante un grafo, y su estudio trasciende a las diversas áreas de las ciencias exactas y las ciencias sociales"
   ]
  },
  {
   "cell_type": "markdown",
   "metadata": {
    "slideshow": {
     "slide_type": "subslide"
    }
   },
   "source": [
    "### Aplicaciones"
   ]
  },
  {
   "cell_type": "markdown",
   "metadata": {
    "slideshow": {
     "slide_type": "subslide"
    }
   },
   "source": [
    "<center>\n",
    "<img src='fig/red_espana.png' width=600>"
   ]
  },
  {
   "cell_type": "markdown",
   "metadata": {
    "slideshow": {
     "slide_type": "subslide"
    }
   },
   "source": [
    "<center>\n",
    "<img src='fig/www.png' width=600>"
   ]
  },
  {
   "cell_type": "markdown",
   "metadata": {
    "slideshow": {
     "slide_type": "subslide"
    }
   },
   "source": [
    "<center>\n",
    "<img src='fig/amistades.png' width=600>"
   ]
  },
  {
   "cell_type": "markdown",
   "metadata": {
    "slideshow": {
     "slide_type": "subslide"
    }
   },
   "source": [
    "<center>\n",
    "<img src='fig/uml.jpg' width=600>"
   ]
  },
  {
   "cell_type": "markdown",
   "metadata": {
    "slideshow": {
     "slide_type": "subslide"
    }
   },
   "source": [
    "<center>\n",
    "<img src='fig/circuito.jpg' width=600>"
   ]
  },
  {
   "cell_type": "markdown",
   "metadata": {
    "slideshow": {
     "slide_type": "subslide"
    }
   },
   "source": [
    "<center>\n",
    "<img src='fig/ontologia.jpg' width=600>"
   ]
  },
  {
   "cell_type": "markdown",
   "metadata": {
    "slideshow": {
     "slide_type": "subslide"
    }
   },
   "source": [
    "### Definiciones\n",
    "\n",
    "- Un grafo es un par $G=(V, E)$, donde $V$ es un conjunto de vértices o nodos y $\\mathrm{E}$ es un conjunto de aristas o arcos que relacionan a dichos nodos\n",
    "\n",
    "- Se llama orden del grafo $G$ al número de vértices que tiene, es decir, a la cardinalidad del conjunto V (|V|)\n",
    "\n",
    "- El grado deg(v) de un nodo $\\mathrm{v} \\in \\mathrm{V}$ es el número de aristas que están conectadas a él\n",
    "\n",
    "- Tomaremos la convención de\n",
    "$$\n",
    "\\begin{aligned}\n",
    "& n=|V| \\\\\n",
    "& m=|E|\n",
    "\\end{aligned}\n",
    "$$"
   ]
  },
  {
   "cell_type": "markdown",
   "metadata": {
    "slideshow": {
     "slide_type": "subslide"
    }
   },
   "source": [
    "### Grafo no dirigido\n",
    "\n",
    "Un grafo no dirigido es un grafo $G=(V, E)$, donde:\n",
    "\n",
    "- $\\mathrm{V} \\neq \\varnothing$, es decir, $\\mathrm{V}$ no está vacío\n",
    "\n",
    "- $E \\subseteq\\{x \\in P(V):|x|=2\\}$, es decir, $E$ es es un conjunto de pares NO ordenados de elementos de $\\mathrm{V}$\n",
    "\n",
    "- Ejemplo:V:=\\{1,2,3,4,5,6\\}, E:=\\{\\{1,2\\},\\{1,5\\},\\{2,3\\},\\{2,5\\},\\{3,4\\},\\{4,5\\},\\{4,6\\}\\}\n",
    "\n",
    "<center>\n",
    "<img src='fig/no_dirigido.png' width=600>"
   ]
  },
  {
   "cell_type": "markdown",
   "metadata": {
    "slideshow": {
     "slide_type": "subslide"
    }
   },
   "source": [
    "### Grafo dirigido\n",
    "\n",
    "Un grafo dirigido es un grafo $G=(V, E)$, donde:\n",
    "- $\\mathrm{V} \\neq \\emptyset$\n",
    "\n",
    "- $\\mathrm{E} \\subseteq \\mathrm{V} \\times \\mathrm{V}$, es decir, $\\mathrm{E}$ es es un conjunto de pares ordenados de elementos de $\\mathrm{V}$\n",
    "\n",
    "- Ejemplo:V:=\\{1,2,3,4,5,6\\}, E:=\\{\\{1,2\\},\\{1,5\\},\\{2,3\\},\\{2,5\\},\\{3,4\\},\\{4,5\\},\\{4,6\\}\\}\n",
    "\n",
    "<center>\n",
    "<img src='fig/dirigido.png' width=600>"
   ]
  },
  {
   "cell_type": "markdown",
   "metadata": {
    "slideshow": {
     "slide_type": "subslide"
    }
   },
   "source": [
    "### Representación de grafos\n",
    "\n",
    "Son las estructuras de datos necesarias para manejar la representación computacional de un grafo\n",
    "\n",
    "- Listas de nodos\n",
    "\n",
    "- Matriz de adyacencia\n",
    "\n",
    "- Conjuntos"
   ]
  },
  {
   "cell_type": "markdown",
   "metadata": {
    "slideshow": {
     "slide_type": "subslide"
    }
   },
   "source": [
    "#### Lista de nodos adyacentes\n",
    "\n",
    "- Doble representación de nodos\n",
    "\n",
    "- Espacio proporcional a $m+n$\n",
    "\n",
    "- Verificar la existencia de la arista (u,v) toma O(deg(v))\n",
    "\n",
    "- Enlistar todos las aristas del grafo toma $\\Theta(m+n)$"
   ]
  },
  {
   "cell_type": "markdown",
   "metadata": {
    "slideshow": {
     "slide_type": "subslide"
    }
   },
   "source": [
    "<center>\n",
    "<img src='fig/grafo_rep.png' height='400'>\n",
    "<img src='fig/lista_adyacencia.png' height='400'>"
   ]
  },
  {
   "cell_type": "markdown",
   "metadata": {
    "slideshow": {
     "slide_type": "subslide"
    }
   },
   "source": [
    "#### Matriz de adyacencia\n",
    "\n",
    "- Es una matriz $A$ de $n$ por $n$, en la cual $A_{u v}=1$ si $(u, v) \\in E$\n",
    "\n",
    "- Dos representaciones para cada arista\n",
    "\n",
    "- Se requiere $\\mathrm{O}\\left(\\mathrm{n}^2\\right)$ de espacio\n",
    "\n",
    "- Checar si (u,v) es una arista toma $\\Theta$ (1)\n",
    "\n",
    "- Listar todas las aristas del grafo toma $\\Theta\\left(n^2\\right)$"
   ]
  },
  {
   "cell_type": "markdown",
   "metadata": {
    "slideshow": {
     "slide_type": "subslide"
    }
   },
   "source": [
    "<center>\n",
    "<img src='fig/matriz_adyascencia.png' height='400'>"
   ]
  },
  {
   "cell_type": "markdown",
   "metadata": {
    "slideshow": {
     "slide_type": "subslide"
    }
   },
   "source": [
    "#### Representación con conjuntos\n",
    "\n",
    "- Con base en la definición de grafo\n",
    "$$\n",
    "\\begin{aligned}\n",
    "& \\mathrm{V}=\\{1,2,3,4,5,6,7,8\\} \\\\\n",
    "& \\mathrm{E}=\\{\\{1,2\\},\\{1,3\\},\\{2,3\\},\\{2,4\\}, \\\\\n",
    "& \\{2,5\\},\\{3,5\\},\\{3,7\\},\\{3,8\\},\\{4,5\\}, \\\\\n",
    "& \\{5,6\\},\\{7,8\\}\\}\n",
    "\\end{aligned}\n",
    "$$\n",
    "\n",
    "- Requiere $\\mathrm{O}(\\mathrm{m}+\\mathrm{n})$ de espacio\n",
    "\n",
    "- Checar si (u,v) es una arista toma $\\Theta(\\mathrm{m})$\n",
    "\n",
    "- Listar todas las aristas del grafo toma $\\Theta(\\mathrm{m})$"
   ]
  },
  {
   "cell_type": "markdown",
   "metadata": {
    "slideshow": {
     "slide_type": "subslide"
    }
   },
   "source": [
    "### Proyecto 1 - Generación de grafos aleatorios\n",
    "\n",
    "1. Escribir una biblioteca en Python para el manejo de grafos.\n",
    "1. Escribir los métodos para generar grafos aleatorios con los siguientes modelos de generación:\n",
    "\n",
    "    - Modelo $G_{n, m}$ de Erdös y Rényi\n",
    "    - Modelo $G_{n, p}$ de Gilbert\n",
    "    - Modelo $G_{n, x}$ geográfico simple\n",
    "    - Variante del modelo $G_{n, d}$ Barabási-Albert\n",
    "    - Modelo $G_{n}$ de Dorogovsev-Mendes\n",
    "\n",
    "1. Escribir los métodos para generar un grafo tipo malla, donde se dan como parámetros el número de filas y el número de columnas"
   ]
  },
  {
   "cell_type": "markdown",
   "metadata": {
    "slideshow": {
     "slide_type": "subslide"
    }
   },
   "source": [
    "#### Modelo $G_{n, m}$ de Erdös y Rényi\n",
    "\n",
    "Crear $n$ vértices y elegir uniformemente al azar $m$ distintos pares de distintos vértices, y crear una arista entre ellos.\n",
    "\n",
    "<center>\n",
    "<video src='fig/erdos.mov' controls width=\"640\" height=\"480\">"
   ]
  },
  {
   "cell_type": "markdown",
   "metadata": {
    "slideshow": {
     "slide_type": "subslide"
    }
   },
   "source": [
    "#### Modelo $G_{n, p}$ de Gilbert\n",
    "Crear $n$ vértices y poner una arista entre cada par independiente y uniformemente con probabilidad $p$.\n",
    "\n",
    "<center>\n",
    "<video src='fig/gilbert.mov' controls width=\"640\" height=\"480\">"
   ]
  },
  {
   "cell_type": "markdown",
   "metadata": {
    "slideshow": {
     "slide_type": "subslide"
    }
   },
   "source": [
    "#### Modelo $G_{n, r}$ geográfico simple\n",
    "\n",
    "Colocar $n$ vértices en un rectángulo unitario (virtual) con coordenadas uniformes (o normales) y colocar una arista entre cada par de nodos cuya distancia sea de $r$ o menor.\n",
    "\n",
    "<center>\n",
    "<video src='fig/geografico.mov' controls width=\"640\" height=\"480\">"
   ]
  },
  {
   "cell_type": "markdown",
   "metadata": {
    "slideshow": {
     "slide_type": "subslide"
    }
   },
   "source": [
    "#### Variante del modelo $\\boldsymbol{G}_{n, d}$ Barabási-Albert\n",
    "\n",
    "Colocar $n$ vértices uno por uno, asignando a cada uno $d$ aristas a vértices distintos de tal manera que la probabilidad de que el vértice nuevo se conecte $a$ un vértice existente $v$ es proporcional a la cantidad de aristas que $v$ tiene actualmente - los primeros $d$ vértices se conecta todos a todos\n",
    "\n",
    "<center>\n",
    "<video src='fig/barabasi.mov' controls width=\"640\" height=\"480\">"
   ]
  },
  {
   "cell_type": "markdown",
   "metadata": {
    "slideshow": {
     "slide_type": "subslide"
    }
   },
   "source": [
    "#### Modelo $G_n$ Dorogovtsev-Mendes\n",
    "\n",
    "Crear 3 nodos y 3 aristas formando un triángulo. Después, para cada nodo adicional, se selecciona una arista al azar y se crean aristas entre el nodo nuevo y los extremos de la arista seleccionada\n",
    "\n",
    "<center>\n",
    "<iframe width=\"640\" height=\"480\" src=\"https://www.youtube.com/embed/BxXwp1lGTmI?si=xHgDT_d9wuE2s2mB\" title=\"YouTube video player\" frameborder=\"0\" allow=\"accelerometer; autoplay; clipboard-write; encrypted-media; gyroscope; picture-in-picture; web-share\" >\n",
    "</iframe>"
   ]
  },
  {
   "cell_type": "markdown",
   "metadata": {
    "slideshow": {
     "slide_type": "slide"
    }
   },
   "source": [
    "## 3.2. Conectividad y recorrido de grafos"
   ]
  },
  {
   "cell_type": "markdown",
   "metadata": {},
   "source": []
  }
 ],
 "metadata": {
  "kernelspec": {
   "display_name": "curso_pdi",
   "language": "python",
   "name": "python3"
  },
  "language_info": {
   "name": "python",
   "version": "3.11.5"
  }
 },
 "nbformat": 4,
 "nbformat_minor": 2
}
